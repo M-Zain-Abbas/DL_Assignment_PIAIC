{
  "nbformat": 4,
  "nbformat_minor": 0,
  "metadata": {
    "kernelspec": {
      "display_name": "Python 3",
      "language": "python",
      "name": "python3"
    },
    "language_info": {
      "codemirror_mode": {
        "name": "ipython",
        "version": 3
      },
      "file_extension": ".py",
      "mimetype": "text/x-python",
      "name": "python",
      "nbconvert_exporter": "python",
      "pygments_lexer": "ipython3",
      "version": "3.7.3"
    },
    "colab": {
      "name": "Car Price Prediction assignment.ipynb",
      "provenance": [],
      "collapsed_sections": [],
      "toc_visible": true
    }
  },
  "cells": [
    {
      "cell_type": "markdown",
      "metadata": {
        "id": "rVfkBd5UIVeP"
      },
      "source": [
        "# Car Price Prediction::"
      ]
    },
    {
      "cell_type": "markdown",
      "metadata": {
        "id": "Eu0qvAlZIVeW"
      },
      "source": [
        "Download dataset from this link:\n",
        "\n",
        "https://www.kaggle.com/hellbuoy/car-price-prediction"
      ]
    },
    {
      "cell_type": "markdown",
      "metadata": {
        "id": "Al6cvnrsIVeX"
      },
      "source": [
        "# Problem Statement::"
      ]
    },
    {
      "cell_type": "markdown",
      "metadata": {
        "id": "YVmYskAiIVeX"
      },
      "source": [
        "A Chinese automobile company Geely Auto aspires to enter the US market by setting up their manufacturing unit there and producing cars locally to give competition to their US and European counterparts.\n",
        "\n",
        "They have contracted an automobile consulting company to understand the factors on which the pricing of cars depends. Specifically, they want to understand the factors affecting the pricing of cars in the American market, since those may be very different from the Chinese market. The company wants to know:\n",
        "\n",
        "Which variables are significant in predicting the price of a car\n",
        "How well those variables describe the price of a car\n",
        "Based on various market surveys, the consulting firm has gathered a large data set of different types of cars across the America market.\n",
        "\n",
        "# task::\n",
        "We are required to model the price of cars with the available independent variables. It will be used by the management to understand how exactly the prices vary with the independent variables. They can accordingly manipulate the design of the cars, the business strategy etc. to meet certain price levels. Further, the model will be a good way for management to understand the pricing dynamics of a new market."
      ]
    },
    {
      "cell_type": "markdown",
      "metadata": {
        "id": "bEFy7_mUIVeX"
      },
      "source": [
        "# WORKFLOW ::"
      ]
    },
    {
      "cell_type": "markdown",
      "metadata": {
        "id": "AxDgQ8rNIVeY"
      },
      "source": [
        "1.Load Data\n",
        "\n",
        "2.Check Missing Values ( If Exist ; Fill each record with mean of its feature )\n",
        "\n",
        "3.Split into 50% Training(Samples,Labels) , 30% Test(Samples,Labels) and 20% Validation Data(Samples,Labels).\n",
        "\n",
        "4.Model : input Layer (No. of features ), 3 hidden layers including 10,8,6 unit & Output Layer with activation function relu/tanh (check by experiment).\n",
        "\n",
        "5.Compilation Step (Note : Its a Regression problem , select loss , metrics according to it)\n",
        "6.Train the Model with Epochs (100) and validate it\n",
        "\n",
        "7.If the model gets overfit tune your model by changing the units , No. of layers , activation function , epochs , add dropout layer or add Regularizer according to the need .\n",
        "\n",
        "8.Evaluation Step\n",
        "\n",
        "9.Prediction"
      ]
    },
    {
      "cell_type": "markdown",
      "metadata": {
        "id": "WTSeXb1MKAIX"
      },
      "source": [
        "# **Connecting to Drive**"
      ]
    },
    {
      "cell_type": "code",
      "metadata": {
        "id": "o2uskEBdKXZn",
        "colab": {
          "base_uri": "https://localhost:8080/"
        },
        "outputId": "f6ee9c7c-d8d5-452f-d071-47e6c3d7e772"
      },
      "source": [
        "from google.colab import drive\n",
        "drive.mount('/content/drive')"
      ],
      "execution_count": 2,
      "outputs": [
        {
          "output_type": "stream",
          "text": [
            "Drive already mounted at /content/drive; to attempt to forcibly remount, call drive.mount(\"/content/drive\", force_remount=True).\n"
          ],
          "name": "stdout"
        }
      ]
    },
    {
      "cell_type": "code",
      "metadata": {
        "colab": {
          "base_uri": "https://localhost:8080/"
        },
        "id": "stysVCERKjy2",
        "outputId": "fe27a2e3-0848-4059-9b2e-dec0f5c8117c"
      },
      "source": [
        "cd /content/drive/MyDrive/PIAIC Assignments/Deep learning assignment 1/Car price prediction"
      ],
      "execution_count": 4,
      "outputs": [
        {
          "output_type": "stream",
          "text": [
            "/content/drive/MyDrive/PIAIC Assignments/Deep learning assignment 1/Car price prediction\n"
          ],
          "name": "stdout"
        }
      ]
    },
    {
      "cell_type": "code",
      "metadata": {
        "colab": {
          "base_uri": "https://localhost:8080/"
        },
        "id": "wSRcdBKnKxtz",
        "outputId": "c1072a5b-f87b-4e0a-95fa-61c347d7d6ef"
      },
      "source": [
        "ls\n"
      ],
      "execution_count": 5,
      "outputs": [
        {
          "output_type": "stream",
          "text": [
            " CarPrice_Assignment.csv                 'Car-price prediction.ipynb'\n",
            "'Car Price Prediction assignment.ipynb'  'Data Dictionary - carprices.xlsx'\n"
          ],
          "name": "stdout"
        }
      ]
    },
    {
      "cell_type": "markdown",
      "metadata": {
        "id": "yNpH1OGGIwW_"
      },
      "source": [
        "# **Importing the libraries**"
      ]
    },
    {
      "cell_type": "code",
      "metadata": {
        "id": "guU7dknJIVeY"
      },
      "source": [
        "import tensorflow as tf\n",
        "import numpy as np\n",
        "import pandas as pd"
      ],
      "execution_count": 6,
      "outputs": []
    },
    {
      "cell_type": "markdown",
      "metadata": {
        "id": "sH-tdSjJI9tV"
      },
      "source": [
        "# **Loading the data**"
      ]
    },
    {
      "cell_type": "code",
      "metadata": {
        "colab": {
          "base_uri": "https://localhost:8080/"
        },
        "id": "76GQf4-cIVeZ",
        "outputId": "104445f2-72ca-4d62-bc59-06dca7c21b05"
      },
      "source": [
        "car_data = pd.read_csv('CarPrice_Assignment.csv')\n",
        "print(car_data)"
      ],
      "execution_count": 7,
      "outputs": [
        {
          "output_type": "stream",
          "text": [
            "     car_ID  symboling                   CarName  ... citympg highwaympg    price\n",
            "0         1          3        alfa-romero giulia  ...      21         27  13495.0\n",
            "1         2          3       alfa-romero stelvio  ...      21         27  16500.0\n",
            "2         3          1  alfa-romero Quadrifoglio  ...      19         26  16500.0\n",
            "3         4          2               audi 100 ls  ...      24         30  13950.0\n",
            "4         5          2                audi 100ls  ...      18         22  17450.0\n",
            "..      ...        ...                       ...  ...     ...        ...      ...\n",
            "200     201         -1           volvo 145e (sw)  ...      23         28  16845.0\n",
            "201     202         -1               volvo 144ea  ...      19         25  19045.0\n",
            "202     203         -1               volvo 244dl  ...      18         23  21485.0\n",
            "203     204         -1                 volvo 246  ...      26         27  22470.0\n",
            "204     205         -1               volvo 264gl  ...      19         25  22625.0\n",
            "\n",
            "[205 rows x 26 columns]\n"
          ],
          "name": "stdout"
        }
      ]
    },
    {
      "cell_type": "code",
      "metadata": {
        "colab": {
          "base_uri": "https://localhost:8080/"
        },
        "id": "PkqcGCEdIVeZ",
        "outputId": "a5a2de9a-efcc-429c-c54e-00ad5accf5e1"
      },
      "source": [
        "car_data.dtypes\n"
      ],
      "execution_count": 8,
      "outputs": [
        {
          "output_type": "execute_result",
          "data": {
            "text/plain": [
              "car_ID                int64\n",
              "symboling             int64\n",
              "CarName              object\n",
              "fueltype             object\n",
              "aspiration           object\n",
              "doornumber           object\n",
              "carbody              object\n",
              "drivewheel           object\n",
              "enginelocation       object\n",
              "wheelbase           float64\n",
              "carlength           float64\n",
              "carwidth            float64\n",
              "carheight           float64\n",
              "curbweight            int64\n",
              "enginetype           object\n",
              "cylindernumber       object\n",
              "enginesize            int64\n",
              "fuelsystem           object\n",
              "boreratio           float64\n",
              "stroke              float64\n",
              "compressionratio    float64\n",
              "horsepower            int64\n",
              "peakrpm               int64\n",
              "citympg               int64\n",
              "highwaympg            int64\n",
              "price               float64\n",
              "dtype: object"
            ]
          },
          "metadata": {
            "tags": []
          },
          "execution_count": 8
        }
      ]
    },
    {
      "cell_type": "code",
      "metadata": {
        "id": "G4WfY7uZVjf9"
      },
      "source": [
        "car_data.iloc[3,2] = 'audi 100ls'"
      ],
      "execution_count": 9,
      "outputs": []
    },
    {
      "cell_type": "code",
      "metadata": {
        "id": "JnRH90MyWSZM"
      },
      "source": [
        "car_data.drop(columns = ['car_ID'], inplace = True)"
      ],
      "execution_count": 10,
      "outputs": []
    },
    {
      "cell_type": "code",
      "metadata": {
        "id": "Ws5llufFIVeZ"
      },
      "source": [
        "final_car = pd.get_dummies(car_data, columns = ['CarName', 'fueltype', 'symboling','aspiration', 'doornumber', 'carbody', 'drivewheel', 'enginelocation','enginetype','cylindernumber','fuelsystem'])\n"
      ],
      "execution_count": 11,
      "outputs": []
    },
    {
      "cell_type": "code",
      "metadata": {
        "colab": {
          "base_uri": "https://localhost:8080/"
        },
        "id": "T7-tZ6C2IVeZ",
        "outputId": "f895cd1e-8fae-4d01-86b3-997e5e3dd71b"
      },
      "source": [
        "final_car.head"
      ],
      "execution_count": 12,
      "outputs": [
        {
          "output_type": "execute_result",
          "data": {
            "text/plain": [
              "<bound method NDFrame.head of      wheelbase  carlength  ...  fuelsystem_spdi  fuelsystem_spfi\n",
              "0         88.6      168.8  ...                0                0\n",
              "1         88.6      168.8  ...                0                0\n",
              "2         94.5      171.2  ...                0                0\n",
              "3         99.8      176.6  ...                0                0\n",
              "4         99.4      176.6  ...                0                0\n",
              "..         ...        ...  ...              ...              ...\n",
              "200      109.1      188.8  ...                0                0\n",
              "201      109.1      188.8  ...                0                0\n",
              "202      109.1      188.8  ...                0                0\n",
              "203      109.1      188.8  ...                0                0\n",
              "204      109.1      188.8  ...                0                0\n",
              "\n",
              "[205 rows x 204 columns]>"
            ]
          },
          "metadata": {
            "tags": []
          },
          "execution_count": 12
        }
      ]
    },
    {
      "cell_type": "code",
      "metadata": {
        "id": "mRZhRZ84IVea"
      },
      "source": [
        "train_data = final_car.sample(frac=0.5, random_state=0)"
      ],
      "execution_count": 17,
      "outputs": []
    },
    {
      "cell_type": "code",
      "metadata": {
        "id": "DxP3Uz7qx2kn"
      },
      "source": [
        "\n",
        "final_car = final_car.drop(train_data.index)"
      ],
      "execution_count": 18,
      "outputs": []
    },
    {
      "cell_type": "code",
      "metadata": {
        "id": "J1uwx_OY0Q5e"
      },
      "source": [
        "x_train= train_data.drop(columns=['price'])\n",
        "y_train = train_data['price']"
      ],
      "execution_count": 20,
      "outputs": []
    },
    {
      "cell_type": "code",
      "metadata": {
        "id": "TfdIvfap2eqa"
      },
      "source": [
        "val_data = final_car.sample(frac=0.4, random_state=0)"
      ],
      "execution_count": 21,
      "outputs": []
    },
    {
      "cell_type": "code",
      "metadata": {
        "id": "j6QfHG_f1NRM"
      },
      "source": [
        "test = final_car.drop(val_data.index)"
      ],
      "execution_count": 22,
      "outputs": []
    },
    {
      "cell_type": "code",
      "metadata": {
        "id": "irxbzXvv1R26"
      },
      "source": [
        "y_val = val_data['price']\n",
        "x_val= val_data.drop(columns=['price'])\n",
        "y_test = test['price']\n",
        "x_test= test.drop(columns=['price'])"
      ],
      "execution_count": 25,
      "outputs": []
    },
    {
      "cell_type": "code",
      "metadata": {
        "id": "pP66HZix1k9u"
      },
      "source": [
        "mean = x_train.iloc[:,0:13].mean(axis=0)\n",
        "x_train.iloc[:,0:13] -= mean\n",
        "std = x_train.iloc[:,0:13].std(axis=0)\n",
        "x_train.iloc[:,0:13] /= std\n",
        "x_test.iloc[:,0:13] /= std\n",
        "x_val.iloc[:,0:13] /=std"
      ],
      "execution_count": 26,
      "outputs": []
    },
    {
      "cell_type": "code",
      "metadata": {
        "id": "Ef3uvWeN1muR"
      },
      "source": [
        "mean_l = y_train.mean()\n",
        "y_train -= mean_l\n",
        "std_l = y_train.std()\n",
        "y_train /= std_l\n",
        "y_test /= std_l\n",
        "y_val /=std_l"
      ],
      "execution_count": 27,
      "outputs": []
    },
    {
      "cell_type": "code",
      "metadata": {
        "id": "jC1YGJaR1xFJ"
      },
      "source": [
        "from tensorflow.keras import models\n",
        "from tensorflow.keras import layers"
      ],
      "execution_count": 28,
      "outputs": []
    },
    {
      "cell_type": "code",
      "metadata": {
        "id": "FWYX44t01zGv"
      },
      "source": [
        "network = models.Sequential([ \n",
        "                          layers.Dense(10,activation='tanh', input_shape=(x_train.shape[1],)),\n",
        "                          layers.Dense(8,activation='relu'),\n",
        "                          layers.Dense(6,activation='relu'),\n",
        "                          layers.Dense(1)\n",
        "])\n",
        "network.compile(optimizer='rmsprop',\n",
        "              loss='mse',\n",
        "              metrics=['mae'])"
      ],
      "execution_count": 30,
      "outputs": []
    },
    {
      "cell_type": "code",
      "metadata": {
        "colab": {
          "base_uri": "https://localhost:8080/"
        },
        "id": "vE6iZrE_1-eM",
        "outputId": "9770a5d8-e673-4773-e95a-8141f45ed1aa"
      },
      "source": [
        "network.fit(x_train, y_train, epochs=100, validation_data=(x_val,y_val))"
      ],
      "execution_count": 31,
      "outputs": [
        {
          "output_type": "stream",
          "text": [
            "Epoch 1/100\n",
            "4/4 [==============================] - 1s 191ms/step - loss: 1.0397 - mae: 0.7373 - val_loss: 1.3976 - val_mae: 0.8350\n",
            "Epoch 2/100\n",
            "4/4 [==============================] - 0s 15ms/step - loss: 1.0296 - mae: 0.6809 - val_loss: 1.4240 - val_mae: 0.8350\n",
            "Epoch 3/100\n",
            "4/4 [==============================] - 0s 17ms/step - loss: 0.9088 - mae: 0.6320 - val_loss: 1.4182 - val_mae: 0.8390\n",
            "Epoch 4/100\n",
            "4/4 [==============================] - 0s 18ms/step - loss: 0.8102 - mae: 0.5897 - val_loss: 1.3552 - val_mae: 0.8435\n",
            "Epoch 5/100\n",
            "4/4 [==============================] - 0s 15ms/step - loss: 0.7126 - mae: 0.5456 - val_loss: 1.3162 - val_mae: 0.8611\n",
            "Epoch 6/100\n",
            "4/4 [==============================] - 0s 16ms/step - loss: 0.5245 - mae: 0.4844 - val_loss: 1.3086 - val_mae: 0.8857\n",
            "Epoch 7/100\n",
            "4/4 [==============================] - 0s 19ms/step - loss: 0.4842 - mae: 0.4917 - val_loss: 1.3102 - val_mae: 0.8963\n",
            "Epoch 8/100\n",
            "4/4 [==============================] - 0s 16ms/step - loss: 0.5698 - mae: 0.4821 - val_loss: 1.3133 - val_mae: 0.9050\n",
            "Epoch 9/100\n",
            "4/4 [==============================] - 0s 17ms/step - loss: 0.4607 - mae: 0.4193 - val_loss: 1.3180 - val_mae: 0.9146\n",
            "Epoch 10/100\n",
            "4/4 [==============================] - 0s 17ms/step - loss: 0.4259 - mae: 0.4040 - val_loss: 1.3286 - val_mae: 0.9256\n",
            "Epoch 11/100\n",
            "4/4 [==============================] - 0s 17ms/step - loss: 0.3040 - mae: 0.3335 - val_loss: 1.3488 - val_mae: 0.9489\n",
            "Epoch 12/100\n",
            "4/4 [==============================] - 0s 15ms/step - loss: 0.3139 - mae: 0.3384 - val_loss: 1.3578 - val_mae: 0.9504\n",
            "Epoch 13/100\n",
            "4/4 [==============================] - 0s 14ms/step - loss: 0.3116 - mae: 0.3363 - val_loss: 1.3657 - val_mae: 0.9603\n",
            "Epoch 14/100\n",
            "4/4 [==============================] - 0s 18ms/step - loss: 0.2153 - mae: 0.2890 - val_loss: 1.4020 - val_mae: 0.9856\n",
            "Epoch 15/100\n",
            "4/4 [==============================] - 0s 15ms/step - loss: 0.2146 - mae: 0.2872 - val_loss: 1.3946 - val_mae: 0.9820\n",
            "Epoch 16/100\n",
            "4/4 [==============================] - 0s 18ms/step - loss: 0.1792 - mae: 0.2638 - val_loss: 1.4069 - val_mae: 0.9928\n",
            "Epoch 17/100\n",
            "4/4 [==============================] - 0s 15ms/step - loss: 0.1904 - mae: 0.2732 - val_loss: 1.4338 - val_mae: 1.0074\n",
            "Epoch 18/100\n",
            "4/4 [==============================] - 0s 15ms/step - loss: 0.2494 - mae: 0.3090 - val_loss: 1.4432 - val_mae: 1.0132\n",
            "Epoch 19/100\n",
            "4/4 [==============================] - 0s 16ms/step - loss: 0.1949 - mae: 0.2691 - val_loss: 1.4647 - val_mae: 1.0276\n",
            "Epoch 20/100\n",
            "4/4 [==============================] - 0s 17ms/step - loss: 0.1833 - mae: 0.2694 - val_loss: 1.4606 - val_mae: 1.0251\n",
            "Epoch 21/100\n",
            "4/4 [==============================] - 0s 15ms/step - loss: 0.1378 - mae: 0.2404 - val_loss: 1.5263 - val_mae: 1.0629\n",
            "Epoch 22/100\n",
            "4/4 [==============================] - 0s 14ms/step - loss: 0.1463 - mae: 0.2388 - val_loss: 1.5276 - val_mae: 1.0639\n",
            "Epoch 23/100\n",
            "4/4 [==============================] - 0s 15ms/step - loss: 0.1779 - mae: 0.2575 - val_loss: 1.4950 - val_mae: 1.0481\n",
            "Epoch 24/100\n",
            "4/4 [==============================] - 0s 16ms/step - loss: 0.1279 - mae: 0.2300 - val_loss: 1.4951 - val_mae: 1.0505\n",
            "Epoch 25/100\n",
            "4/4 [==============================] - 0s 17ms/step - loss: 0.1277 - mae: 0.2286 - val_loss: 1.5204 - val_mae: 1.0640\n",
            "Epoch 26/100\n",
            "4/4 [==============================] - 0s 18ms/step - loss: 0.1047 - mae: 0.2005 - val_loss: 1.5968 - val_mae: 1.1003\n",
            "Epoch 27/100\n",
            "4/4 [==============================] - 0s 15ms/step - loss: 0.1058 - mae: 0.2070 - val_loss: 1.5666 - val_mae: 1.0884\n",
            "Epoch 28/100\n",
            "4/4 [==============================] - 0s 16ms/step - loss: 0.1222 - mae: 0.2139 - val_loss: 1.5598 - val_mae: 1.0872\n",
            "Epoch 29/100\n",
            "4/4 [==============================] - 0s 16ms/step - loss: 0.0804 - mae: 0.1837 - val_loss: 1.6121 - val_mae: 1.1116\n",
            "Epoch 30/100\n",
            "4/4 [==============================] - 0s 16ms/step - loss: 0.0896 - mae: 0.1936 - val_loss: 1.6499 - val_mae: 1.1287\n",
            "Epoch 31/100\n",
            "4/4 [==============================] - 0s 18ms/step - loss: 0.1004 - mae: 0.1972 - val_loss: 1.6361 - val_mae: 1.1240\n",
            "Epoch 32/100\n",
            "4/4 [==============================] - 0s 15ms/step - loss: 0.0969 - mae: 0.1831 - val_loss: 1.6492 - val_mae: 1.1310\n",
            "Epoch 33/100\n",
            "4/4 [==============================] - 0s 17ms/step - loss: 0.0791 - mae: 0.1785 - val_loss: 1.6070 - val_mae: 1.1151\n",
            "Epoch 34/100\n",
            "4/4 [==============================] - 0s 18ms/step - loss: 0.0740 - mae: 0.1733 - val_loss: 1.6577 - val_mae: 1.1367\n",
            "Epoch 35/100\n",
            "4/4 [==============================] - 0s 15ms/step - loss: 0.0640 - mae: 0.1568 - val_loss: 1.7363 - val_mae: 1.1724\n",
            "Epoch 36/100\n",
            "4/4 [==============================] - 0s 18ms/step - loss: 0.0597 - mae: 0.1592 - val_loss: 1.7873 - val_mae: 1.1972\n",
            "Epoch 37/100\n",
            "4/4 [==============================] - 0s 17ms/step - loss: 0.0537 - mae: 0.1492 - val_loss: 1.8585 - val_mae: 1.2281\n",
            "Epoch 38/100\n",
            "4/4 [==============================] - 0s 16ms/step - loss: 0.0506 - mae: 0.1492 - val_loss: 1.8913 - val_mae: 1.2412\n",
            "Epoch 39/100\n",
            "4/4 [==============================] - 0s 16ms/step - loss: 0.0474 - mae: 0.1485 - val_loss: 1.8864 - val_mae: 1.2405\n",
            "Epoch 40/100\n",
            "4/4 [==============================] - 0s 17ms/step - loss: 0.0390 - mae: 0.1309 - val_loss: 2.0373 - val_mae: 1.2981\n",
            "Epoch 41/100\n",
            "4/4 [==============================] - 0s 16ms/step - loss: 0.0501 - mae: 0.1528 - val_loss: 2.0025 - val_mae: 1.2858\n",
            "Epoch 42/100\n",
            "4/4 [==============================] - 0s 16ms/step - loss: 0.0376 - mae: 0.1263 - val_loss: 2.0845 - val_mae: 1.3169\n",
            "Epoch 43/100\n",
            "4/4 [==============================] - 0s 15ms/step - loss: 0.0401 - mae: 0.1282 - val_loss: 2.0406 - val_mae: 1.3013\n",
            "Epoch 44/100\n",
            "4/4 [==============================] - 0s 16ms/step - loss: 0.0294 - mae: 0.1125 - val_loss: 2.0948 - val_mae: 1.3214\n",
            "Epoch 45/100\n",
            "4/4 [==============================] - 0s 16ms/step - loss: 0.0283 - mae: 0.1094 - val_loss: 2.1856 - val_mae: 1.3534\n",
            "Epoch 46/100\n",
            "4/4 [==============================] - 0s 17ms/step - loss: 0.0285 - mae: 0.1119 - val_loss: 2.2034 - val_mae: 1.3599\n",
            "Epoch 47/100\n",
            "4/4 [==============================] - 0s 17ms/step - loss: 0.0337 - mae: 0.1170 - val_loss: 2.2169 - val_mae: 1.3646\n",
            "Epoch 48/100\n",
            "4/4 [==============================] - 0s 17ms/step - loss: 0.0258 - mae: 0.1034 - val_loss: 2.2642 - val_mae: 1.3807\n",
            "Epoch 49/100\n",
            "4/4 [==============================] - 0s 16ms/step - loss: 0.0237 - mae: 0.0965 - val_loss: 2.2768 - val_mae: 1.3851\n",
            "Epoch 50/100\n",
            "4/4 [==============================] - 0s 16ms/step - loss: 0.0248 - mae: 0.0961 - val_loss: 2.2831 - val_mae: 1.3881\n",
            "Epoch 51/100\n",
            "4/4 [==============================] - 0s 18ms/step - loss: 0.0333 - mae: 0.1117 - val_loss: 2.3788 - val_mae: 1.4207\n",
            "Epoch 52/100\n",
            "4/4 [==============================] - 0s 18ms/step - loss: 0.0183 - mae: 0.0852 - val_loss: 2.4304 - val_mae: 1.4372\n",
            "Epoch 53/100\n",
            "4/4 [==============================] - 0s 15ms/step - loss: 0.0179 - mae: 0.0865 - val_loss: 2.4460 - val_mae: 1.4435\n",
            "Epoch 54/100\n",
            "4/4 [==============================] - 0s 15ms/step - loss: 0.0209 - mae: 0.0928 - val_loss: 2.4883 - val_mae: 1.4569\n",
            "Epoch 55/100\n",
            "4/4 [==============================] - 0s 17ms/step - loss: 0.0170 - mae: 0.0844 - val_loss: 2.5013 - val_mae: 1.4614\n",
            "Epoch 56/100\n",
            "4/4 [==============================] - 0s 15ms/step - loss: 0.0178 - mae: 0.0814 - val_loss: 2.4360 - val_mae: 1.4424\n",
            "Epoch 57/100\n",
            "4/4 [==============================] - 0s 16ms/step - loss: 0.0154 - mae: 0.0836 - val_loss: 2.4965 - val_mae: 1.4615\n",
            "Epoch 58/100\n",
            "4/4 [==============================] - 0s 18ms/step - loss: 0.0180 - mae: 0.0830 - val_loss: 2.5022 - val_mae: 1.4640\n",
            "Epoch 59/100\n",
            "4/4 [==============================] - 0s 17ms/step - loss: 0.0133 - mae: 0.0733 - val_loss: 2.5688 - val_mae: 1.4841\n",
            "Epoch 60/100\n",
            "4/4 [==============================] - 0s 18ms/step - loss: 0.0115 - mae: 0.0686 - val_loss: 2.5534 - val_mae: 1.4796\n",
            "Epoch 61/100\n",
            "4/4 [==============================] - 0s 17ms/step - loss: 0.0101 - mae: 0.0679 - val_loss: 2.6578 - val_mae: 1.5105\n",
            "Epoch 62/100\n",
            "4/4 [==============================] - 0s 17ms/step - loss: 0.0093 - mae: 0.0679 - val_loss: 2.6775 - val_mae: 1.5178\n",
            "Epoch 63/100\n",
            "4/4 [==============================] - 0s 16ms/step - loss: 0.0087 - mae: 0.0641 - val_loss: 2.7590 - val_mae: 1.5408\n",
            "Epoch 64/100\n",
            "4/4 [==============================] - 0s 17ms/step - loss: 0.0103 - mae: 0.0675 - val_loss: 2.8126 - val_mae: 1.5565\n",
            "Epoch 65/100\n",
            "4/4 [==============================] - 0s 16ms/step - loss: 0.0108 - mae: 0.0728 - val_loss: 2.8376 - val_mae: 1.5639\n",
            "Epoch 66/100\n",
            "4/4 [==============================] - 0s 17ms/step - loss: 0.0082 - mae: 0.0622 - val_loss: 2.7189 - val_mae: 1.5305\n",
            "Epoch 67/100\n",
            "4/4 [==============================] - 0s 17ms/step - loss: 0.0102 - mae: 0.0658 - val_loss: 2.7578 - val_mae: 1.5416\n",
            "Epoch 68/100\n",
            "4/4 [==============================] - 0s 18ms/step - loss: 0.0107 - mae: 0.0729 - val_loss: 2.7056 - val_mae: 1.5266\n",
            "Epoch 69/100\n",
            "4/4 [==============================] - 0s 16ms/step - loss: 0.0091 - mae: 0.0665 - val_loss: 2.8089 - val_mae: 1.5556\n",
            "Epoch 70/100\n",
            "4/4 [==============================] - 0s 16ms/step - loss: 0.0065 - mae: 0.0513 - val_loss: 2.8362 - val_mae: 1.5636\n",
            "Epoch 71/100\n",
            "4/4 [==============================] - 0s 16ms/step - loss: 0.0065 - mae: 0.0535 - val_loss: 2.8676 - val_mae: 1.5723\n",
            "Epoch 72/100\n",
            "4/4 [==============================] - 0s 16ms/step - loss: 0.0054 - mae: 0.0445 - val_loss: 2.7929 - val_mae: 1.5519\n",
            "Epoch 73/100\n",
            "4/4 [==============================] - 0s 16ms/step - loss: 0.0057 - mae: 0.0492 - val_loss: 2.9256 - val_mae: 1.5881\n",
            "Epoch 74/100\n",
            "4/4 [==============================] - 0s 16ms/step - loss: 0.0057 - mae: 0.0563 - val_loss: 2.8761 - val_mae: 1.5745\n",
            "Epoch 75/100\n",
            "4/4 [==============================] - 0s 18ms/step - loss: 0.0050 - mae: 0.0465 - val_loss: 2.8471 - val_mae: 1.5665\n",
            "Epoch 76/100\n",
            "4/4 [==============================] - 0s 19ms/step - loss: 0.0050 - mae: 0.0487 - val_loss: 2.7255 - val_mae: 1.5325\n",
            "Epoch 77/100\n",
            "4/4 [==============================] - 0s 17ms/step - loss: 0.0094 - mae: 0.0625 - val_loss: 2.9269 - val_mae: 1.5885\n",
            "Epoch 78/100\n",
            "4/4 [==============================] - 0s 15ms/step - loss: 0.0049 - mae: 0.0487 - val_loss: 2.8632 - val_mae: 1.5713\n",
            "Epoch 79/100\n",
            "4/4 [==============================] - 0s 15ms/step - loss: 0.0040 - mae: 0.0394 - val_loss: 2.9115 - val_mae: 1.5842\n",
            "Epoch 80/100\n",
            "4/4 [==============================] - 0s 15ms/step - loss: 0.0033 - mae: 0.0376 - val_loss: 2.8949 - val_mae: 1.5795\n",
            "Epoch 81/100\n",
            "4/4 [==============================] - 0s 16ms/step - loss: 0.0034 - mae: 0.0429 - val_loss: 2.9425 - val_mae: 1.5930\n",
            "Epoch 82/100\n",
            "4/4 [==============================] - 0s 18ms/step - loss: 0.0031 - mae: 0.0400 - val_loss: 2.9045 - val_mae: 1.5824\n",
            "Epoch 83/100\n",
            "4/4 [==============================] - 0s 17ms/step - loss: 0.0028 - mae: 0.0355 - val_loss: 2.9455 - val_mae: 1.5929\n",
            "Epoch 84/100\n",
            "4/4 [==============================] - 0s 15ms/step - loss: 0.0035 - mae: 0.0445 - val_loss: 2.9380 - val_mae: 1.5918\n",
            "Epoch 85/100\n",
            "4/4 [==============================] - 0s 17ms/step - loss: 0.0028 - mae: 0.0355 - val_loss: 3.0015 - val_mae: 1.6087\n",
            "Epoch 86/100\n",
            "4/4 [==============================] - 0s 19ms/step - loss: 0.0037 - mae: 0.0413 - val_loss: 2.9733 - val_mae: 1.6008\n",
            "Epoch 87/100\n",
            "4/4 [==============================] - 0s 16ms/step - loss: 0.0034 - mae: 0.0380 - val_loss: 3.0664 - val_mae: 1.6253\n",
            "Epoch 88/100\n",
            "4/4 [==============================] - 0s 20ms/step - loss: 0.0039 - mae: 0.0476 - val_loss: 2.9631 - val_mae: 1.5980\n",
            "Epoch 89/100\n",
            "4/4 [==============================] - 0s 16ms/step - loss: 0.0035 - mae: 0.0387 - val_loss: 2.8589 - val_mae: 1.5698\n",
            "Epoch 90/100\n",
            "4/4 [==============================] - 0s 16ms/step - loss: 0.0037 - mae: 0.0414 - val_loss: 2.9225 - val_mae: 1.5869\n",
            "Epoch 91/100\n",
            "4/4 [==============================] - 0s 15ms/step - loss: 0.0030 - mae: 0.0379 - val_loss: 2.8970 - val_mae: 1.5799\n",
            "Epoch 92/100\n",
            "4/4 [==============================] - 0s 16ms/step - loss: 0.0019 - mae: 0.0267 - val_loss: 2.9680 - val_mae: 1.5994\n",
            "Epoch 93/100\n",
            "4/4 [==============================] - 0s 18ms/step - loss: 0.0030 - mae: 0.0405 - val_loss: 3.0563 - val_mae: 1.6218\n",
            "Epoch 94/100\n",
            "4/4 [==============================] - 0s 19ms/step - loss: 0.0036 - mae: 0.0413 - val_loss: 2.9678 - val_mae: 1.5991\n",
            "Epoch 95/100\n",
            "4/4 [==============================] - 0s 16ms/step - loss: 0.0026 - mae: 0.0356 - val_loss: 2.9103 - val_mae: 1.5836\n",
            "Epoch 96/100\n",
            "4/4 [==============================] - 0s 16ms/step - loss: 0.0025 - mae: 0.0322 - val_loss: 2.8503 - val_mae: 1.5672\n",
            "Epoch 97/100\n",
            "4/4 [==============================] - 0s 19ms/step - loss: 0.0016 - mae: 0.0262 - val_loss: 2.7826 - val_mae: 1.5486\n",
            "Epoch 98/100\n",
            "4/4 [==============================] - 0s 15ms/step - loss: 0.0029 - mae: 0.0399 - val_loss: 2.8527 - val_mae: 1.5680\n",
            "Epoch 99/100\n",
            "4/4 [==============================] - 0s 15ms/step - loss: 0.0024 - mae: 0.0330 - val_loss: 2.8362 - val_mae: 1.5630\n",
            "Epoch 100/100\n",
            "4/4 [==============================] - 0s 15ms/step - loss: 0.0023 - mae: 0.0321 - val_loss: 2.8833 - val_mae: 1.5763\n"
          ],
          "name": "stdout"
        },
        {
          "output_type": "execute_result",
          "data": {
            "text/plain": [
              "<tensorflow.python.keras.callbacks.History at 0x7f2cbe29ed10>"
            ]
          },
          "metadata": {
            "tags": []
          },
          "execution_count": 31
        }
      ]
    },
    {
      "cell_type": "code",
      "metadata": {
        "colab": {
          "base_uri": "https://localhost:8080/"
        },
        "id": "m2j_Hb072InV",
        "outputId": "b5c41935-4843-439e-e4f2-ab39f289cb55"
      },
      "source": [
        "test_loss, test_acc = network.evaluate(x_test, y_test)\n",
        "print('Test accuracy = ', test_acc)"
      ],
      "execution_count": 33,
      "outputs": [
        {
          "output_type": "stream",
          "text": [
            "2/2 [==============================] - 0s 5ms/step - loss: 3.1126 - mae: 1.6595\n",
            "Test accuracy =  1.659478783607483\n"
          ],
          "name": "stdout"
        }
      ]
    }
  ]
}