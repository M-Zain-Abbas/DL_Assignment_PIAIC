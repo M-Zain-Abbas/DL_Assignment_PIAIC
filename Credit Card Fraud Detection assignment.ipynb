{
 "cells": [
  {
   "cell_type": "markdown",
   "metadata": {},
   "source": [
    "# Credit Card Fraud Detection::"
   ]
  },
  {
   "cell_type": "markdown",
   "metadata": {},
   "source": [
    "Download dataset from this link:\n",
    "\n",
    "https://www.kaggle.com/mlg-ulb/creditcardfraud"
   ]
  },
  {
   "cell_type": "markdown",
   "metadata": {},
   "source": [
    "# Description about dataset::"
   ]
  },
  {
   "cell_type": "markdown",
   "metadata": {},
   "source": [
    "The datasets contains transactions made by credit cards in September 2013 by european cardholders.\n",
    "This dataset presents transactions that occurred in two days, where we have 492 frauds out of 284,807 transactions. The dataset is highly unbalanced, the positive class (frauds) account for 0.172% of all transactions.\n",
    "\n",
    "It contains only numerical input variables which are the result of a PCA transformation. Unfortunately, due to confidentiality issues, we cannot provide the original features and more background information about the data. Features V1, V2, … V28 are the principal components obtained with PCA, the only features which have not been transformed with PCA are 'Time' and 'Amount'. Feature 'Time' contains the seconds elapsed between each transaction and the first transaction in the dataset. The feature 'Amount' is the transaction Amount, this feature can be used for example-dependant cost-senstive learning. \n",
    "\n",
    "\n",
    "### Feature 'Class' is the response variable and it takes value 1 in case of fraud and 0 otherwise."
   ]
  },
  {
   "cell_type": "markdown",
   "metadata": {},
   "source": [
    "# WORKFLOW :"
   ]
  },
  {
   "cell_type": "markdown",
   "metadata": {},
   "source": [
    "1.Load Data\n",
    "\n",
    "2.Check Missing Values ( If Exist ; Fill each record with mean of its feature )\n",
    "\n",
    "3.Standardized the Input Variables. \n",
    "\n",
    "4.Split into 50% Training(Samples,Labels) , 30% Test(Samples,Labels) and 20% Validation Data(Samples,Labels).\n",
    "\n",
    "5.Model : input Layer (No. of features ), 3 hidden layers including 10,8,6 unit & Output Layer with activation function relu/tanh (check by experiment).\n",
    "\n",
    "6.Compilation Step (Note : Its a Binary problem , select loss , metrics according to it)\n",
    "\n",
    "7.Train the Model with Epochs (100).\n",
    "\n",
    "8.If the model gets overfit tune your model by changing the units , No. of layers , epochs , add dropout layer or add Regularizer according to the need .\n",
    "\n",
    "9.Prediction should be > 92%\n",
    "10.Evaluation Step\n",
    "11Prediction\n"
   ]
  },
  {
   "cell_type": "markdown",
   "metadata": {},
   "source": [
    "# Task::"
   ]
  },
  {
   "cell_type": "markdown",
   "metadata": {},
   "source": [
    "## Identify fraudulent credit card transactions."
   ]
  },
  {
   "cell_type": "code",
   "execution_count": 48,
   "metadata": {},
   "outputs": [],
   "source": [
    "import pandas as pd \n",
    "import numpy as np\n",
    "import tensorflow as tf"
   ]
  },
  {
   "cell_type": "code",
   "execution_count": 49,
   "metadata": {},
   "outputs": [],
   "source": [
    "card = pd.read_csv(\"creditcard.csv\")"
   ]
  },
  {
   "cell_type": "code",
   "execution_count": 50,
   "metadata": {},
   "outputs": [],
   "source": [
    "non_fraud = card[card[\"Class\"]==0]\n",
    "fraud = card[card[\"Class\"]==1]\n",
    "non_fraud = non_fraud.sample(2*fraud.shape[0])\n",
    "credit_card = fraud.append(non_fraud, ignore_index=True)"
   ]
  },
  {
   "cell_type": "code",
   "execution_count": 52,
   "metadata": {},
   "outputs": [],
   "source": [
    "#credit_card.describe()\n",
    "#credit_card.isnull().any()\n",
    "train = credit_card.sample(frac=0.5, random_state=1)\n",
    "credit_card = credit_card.drop(train.index)\n",
    "val_data = credit_card.sample(frac=0.4, random_state=1)\n",
    "test = credit_card.drop(val_data.index)"
   ]
  },
  {
   "cell_type": "code",
   "execution_count": 55,
   "metadata": {},
   "outputs": [],
   "source": [
    "train_labels = train['Class']\n",
    "test_labels = test.iloc[:,-1]   \n",
    "val_labels = val_data.iloc[:,-1]"
   ]
  },
  {
   "cell_type": "code",
   "execution_count": 56,
   "metadata": {},
   "outputs": [],
   "source": [
    "train = train.drop(columns='Class')\n",
    "test = test.drop(columns='Class')\n",
    "val_data = val_data.drop(columns='Class')"
   ]
  },
  {
   "cell_type": "code",
   "execution_count": 57,
   "metadata": {},
   "outputs": [],
   "source": [
    "mean = train.mean()\n",
    "train -= mean\n",
    "std = train.std()\n",
    "train /= std\n",
    "test /= std\n",
    "val_data/=std"
   ]
  },
  {
   "cell_type": "code",
   "execution_count": 58,
   "metadata": {},
   "outputs": [],
   "source": [
    "from tensorflow.keras import models\n",
    "from tensorflow.keras import layers"
   ]
  },
  {
   "cell_type": "code",
   "execution_count": 59,
   "metadata": {},
   "outputs": [],
   "source": [
    "network = models.Sequential([\n",
    "    (layers.Dense(10, activation='relu', input_shape=(train.shape[1],))),\n",
    "#     (layers.Dropout(0.5)),\n",
    "    (layers.Dense(8, activation='relu')),\n",
    "#     (layers.Dropout(0.5)),\n",
    "    (layers.Dense(6, activation='relu')),\n",
    "#     (layers.Dropout(0.5)),\n",
    "    (layers.Dense(1,  activation = 'sigmoid'))\n",
    "])"
   ]
  },
  {
   "cell_type": "code",
   "execution_count": 60,
   "metadata": {},
   "outputs": [
    {
     "output_type": "stream",
     "name": "stdout",
     "text": [
      "Epoch 1/100\n",
      "12/12 [==============================] - 2s 39ms/step - loss: 0.7761 - accuracy: 0.6024 - val_loss: 0.8118 - val_accuracy: 0.5270\n",
      "Epoch 2/100\n",
      "12/12 [==============================] - 0s 12ms/step - loss: 0.6409 - accuracy: 0.6685 - val_loss: 0.7212 - val_accuracy: 0.5338\n",
      "Epoch 3/100\n",
      "12/12 [==============================] - 0s 12ms/step - loss: 0.5460 - accuracy: 0.7335 - val_loss: 0.6711 - val_accuracy: 0.6486\n",
      "Epoch 4/100\n",
      "12/12 [==============================] - 0s 10ms/step - loss: 0.4294 - accuracy: 0.8560 - val_loss: 0.6317 - val_accuracy: 0.6554\n",
      "Epoch 5/100\n",
      "12/12 [==============================] - 0s 10ms/step - loss: 0.3913 - accuracy: 0.8775 - val_loss: 0.6020 - val_accuracy: 0.6892\n",
      "Epoch 6/100\n",
      "12/12 [==============================] - 0s 11ms/step - loss: 0.3481 - accuracy: 0.8899 - val_loss: 0.5821 - val_accuracy: 0.6622\n",
      "Epoch 7/100\n",
      "12/12 [==============================] - 0s 12ms/step - loss: 0.3164 - accuracy: 0.9150 - val_loss: 0.5712 - val_accuracy: 0.6284\n",
      "Epoch 8/100\n",
      "12/12 [==============================] - 0s 13ms/step - loss: 0.2915 - accuracy: 0.9251 - val_loss: 0.5665 - val_accuracy: 0.6149\n",
      "Epoch 9/100\n",
      "12/12 [==============================] - 0s 12ms/step - loss: 0.2878 - accuracy: 0.9122 - val_loss: 0.5675 - val_accuracy: 0.6081\n",
      "Epoch 10/100\n",
      "12/12 [==============================] - 0s 10ms/step - loss: 0.2407 - accuracy: 0.9245 - val_loss: 0.5724 - val_accuracy: 0.5878\n",
      "Epoch 11/100\n",
      "12/12 [==============================] - 0s 14ms/step - loss: 0.2154 - accuracy: 0.9382 - val_loss: 0.5811 - val_accuracy: 0.5743\n",
      "Epoch 12/100\n",
      "12/12 [==============================] - 0s 14ms/step - loss: 0.1712 - accuracy: 0.9480 - val_loss: 0.5940 - val_accuracy: 0.5676\n",
      "Epoch 13/100\n",
      "12/12 [==============================] - 0s 16ms/step - loss: 0.1982 - accuracy: 0.9338 - val_loss: 0.6081 - val_accuracy: 0.5473\n",
      "Epoch 14/100\n",
      "12/12 [==============================] - 0s 19ms/step - loss: 0.1587 - accuracy: 0.9563 - val_loss: 0.6241 - val_accuracy: 0.5473\n",
      "Epoch 15/100\n",
      "12/12 [==============================] - 0s 16ms/step - loss: 0.1862 - accuracy: 0.9443 - val_loss: 0.6446 - val_accuracy: 0.5405\n",
      "Epoch 16/100\n",
      "12/12 [==============================] - 0s 18ms/step - loss: 0.1436 - accuracy: 0.9644 - val_loss: 0.6603 - val_accuracy: 0.5270\n",
      "Epoch 17/100\n",
      "12/12 [==============================] - 0s 13ms/step - loss: 0.1657 - accuracy: 0.9498 - val_loss: 0.6830 - val_accuracy: 0.4932\n",
      "Epoch 18/100\n",
      "12/12 [==============================] - 0s 10ms/step - loss: 0.1524 - accuracy: 0.9598 - val_loss: 0.7012 - val_accuracy: 0.4932\n",
      "Epoch 19/100\n",
      "12/12 [==============================] - 0s 9ms/step - loss: 0.1521 - accuracy: 0.9596 - val_loss: 0.7197 - val_accuracy: 0.4797\n",
      "Epoch 20/100\n",
      "12/12 [==============================] - 0s 9ms/step - loss: 0.1225 - accuracy: 0.9723 - val_loss: 0.7357 - val_accuracy: 0.4797\n",
      "Epoch 21/100\n",
      "12/12 [==============================] - 0s 10ms/step - loss: 0.1134 - accuracy: 0.9697 - val_loss: 0.7549 - val_accuracy: 0.4797\n",
      "Epoch 22/100\n",
      "12/12 [==============================] - 0s 8ms/step - loss: 0.1208 - accuracy: 0.9633 - val_loss: 0.7701 - val_accuracy: 0.4797\n",
      "Epoch 23/100\n",
      "12/12 [==============================] - 0s 10ms/step - loss: 0.1100 - accuracy: 0.9673 - val_loss: 0.7911 - val_accuracy: 0.4797\n",
      "Epoch 24/100\n",
      "12/12 [==============================] - 0s 11ms/step - loss: 0.0983 - accuracy: 0.9757 - val_loss: 0.8089 - val_accuracy: 0.4797\n",
      "Epoch 25/100\n",
      "12/12 [==============================] - 0s 11ms/step - loss: 0.1127 - accuracy: 0.9680 - val_loss: 0.8239 - val_accuracy: 0.4797\n",
      "Epoch 26/100\n",
      "12/12 [==============================] - 0s 11ms/step - loss: 0.1153 - accuracy: 0.9658 - val_loss: 0.8382 - val_accuracy: 0.4730\n",
      "Epoch 27/100\n",
      "12/12 [==============================] - 0s 10ms/step - loss: 0.1138 - accuracy: 0.9626 - val_loss: 0.8539 - val_accuracy: 0.4730\n",
      "Epoch 28/100\n",
      "12/12 [==============================] - 0s 9ms/step - loss: 0.0953 - accuracy: 0.9716 - val_loss: 0.8626 - val_accuracy: 0.4730\n",
      "Epoch 29/100\n",
      "12/12 [==============================] - 0s 12ms/step - loss: 0.1120 - accuracy: 0.9662 - val_loss: 0.8738 - val_accuracy: 0.4730\n",
      "Epoch 30/100\n",
      "12/12 [==============================] - 0s 12ms/step - loss: 0.0993 - accuracy: 0.9707 - val_loss: 0.8855 - val_accuracy: 0.4730\n",
      "Epoch 31/100\n",
      "12/12 [==============================] - 0s 9ms/step - loss: 0.0724 - accuracy: 0.9843 - val_loss: 0.8971 - val_accuracy: 0.4730\n",
      "Epoch 32/100\n",
      "12/12 [==============================] - 0s 9ms/step - loss: 0.0645 - accuracy: 0.9807 - val_loss: 0.9141 - val_accuracy: 0.4797\n",
      "Epoch 33/100\n",
      "12/12 [==============================] - 0s 11ms/step - loss: 0.1217 - accuracy: 0.9652 - val_loss: 0.9318 - val_accuracy: 0.4730\n",
      "Epoch 34/100\n",
      "12/12 [==============================] - 0s 11ms/step - loss: 0.0867 - accuracy: 0.9776 - val_loss: 0.9418 - val_accuracy: 0.4730\n",
      "Epoch 35/100\n",
      "12/12 [==============================] - 0s 10ms/step - loss: 0.0827 - accuracy: 0.9770 - val_loss: 0.9630 - val_accuracy: 0.4797\n",
      "Epoch 36/100\n",
      "12/12 [==============================] - 0s 10ms/step - loss: 0.0897 - accuracy: 0.9677 - val_loss: 0.9664 - val_accuracy: 0.4730\n",
      "Epoch 37/100\n",
      "12/12 [==============================] - 0s 11ms/step - loss: 0.0801 - accuracy: 0.9768 - val_loss: 0.9832 - val_accuracy: 0.4662\n",
      "Epoch 38/100\n",
      "12/12 [==============================] - 0s 9ms/step - loss: 0.0870 - accuracy: 0.9669 - val_loss: 0.9961 - val_accuracy: 0.4730\n",
      "Epoch 39/100\n",
      "12/12 [==============================] - 0s 8ms/step - loss: 0.0664 - accuracy: 0.9807 - val_loss: 0.9965 - val_accuracy: 0.4797\n",
      "Epoch 40/100\n",
      "12/12 [==============================] - 0s 9ms/step - loss: 0.0687 - accuracy: 0.9825 - val_loss: 1.0159 - val_accuracy: 0.4865\n",
      "Epoch 41/100\n",
      "12/12 [==============================] - 0s 11ms/step - loss: 0.0649 - accuracy: 0.9824 - val_loss: 1.0323 - val_accuracy: 0.4865\n",
      "Epoch 42/100\n",
      "12/12 [==============================] - 0s 10ms/step - loss: 0.1086 - accuracy: 0.9614 - val_loss: 1.0483 - val_accuracy: 0.4865\n",
      "Epoch 43/100\n",
      "12/12 [==============================] - 0s 9ms/step - loss: 0.0720 - accuracy: 0.9730 - val_loss: 1.0604 - val_accuracy: 0.4865\n",
      "Epoch 44/100\n",
      "12/12 [==============================] - 0s 10ms/step - loss: 0.0803 - accuracy: 0.9733 - val_loss: 1.0676 - val_accuracy: 0.4797\n",
      "Epoch 45/100\n",
      "12/12 [==============================] - 0s 9ms/step - loss: 0.0692 - accuracy: 0.9800 - val_loss: 1.0937 - val_accuracy: 0.4730\n",
      "Epoch 46/100\n",
      "12/12 [==============================] - 0s 9ms/step - loss: 0.0816 - accuracy: 0.9717 - val_loss: 1.1140 - val_accuracy: 0.4662\n",
      "Epoch 47/100\n",
      "12/12 [==============================] - 0s 18ms/step - loss: 0.0834 - accuracy: 0.9665 - val_loss: 1.1303 - val_accuracy: 0.4662\n",
      "Epoch 48/100\n",
      "12/12 [==============================] - 0s 17ms/step - loss: 0.0789 - accuracy: 0.9748 - val_loss: 1.1329 - val_accuracy: 0.4730\n",
      "Epoch 49/100\n",
      "12/12 [==============================] - 0s 8ms/step - loss: 0.0510 - accuracy: 0.9837 - val_loss: 1.1424 - val_accuracy: 0.4662\n",
      "Epoch 50/100\n",
      "12/12 [==============================] - 0s 8ms/step - loss: 0.0667 - accuracy: 0.9800 - val_loss: 1.1628 - val_accuracy: 0.4595\n",
      "Epoch 51/100\n",
      "12/12 [==============================] - 0s 8ms/step - loss: 0.0612 - accuracy: 0.9728 - val_loss: 1.1793 - val_accuracy: 0.4595\n",
      "Epoch 52/100\n",
      "12/12 [==============================] - 0s 8ms/step - loss: 0.0513 - accuracy: 0.9818 - val_loss: 1.1723 - val_accuracy: 0.4730\n",
      "Epoch 53/100\n",
      "12/12 [==============================] - 0s 8ms/step - loss: 0.0712 - accuracy: 0.9663 - val_loss: 1.1988 - val_accuracy: 0.4527\n",
      "Epoch 54/100\n",
      "12/12 [==============================] - 0s 9ms/step - loss: 0.0431 - accuracy: 0.9894 - val_loss: 1.1927 - val_accuracy: 0.4662\n",
      "Epoch 55/100\n",
      "12/12 [==============================] - 0s 8ms/step - loss: 0.0475 - accuracy: 0.9894 - val_loss: 1.2118 - val_accuracy: 0.4662\n",
      "Epoch 56/100\n",
      "12/12 [==============================] - 0s 11ms/step - loss: 0.0672 - accuracy: 0.9783 - val_loss: 1.2185 - val_accuracy: 0.4662\n",
      "Epoch 57/100\n",
      "12/12 [==============================] - 0s 7ms/step - loss: 0.0422 - accuracy: 0.9928 - val_loss: 1.2181 - val_accuracy: 0.4730\n",
      "Epoch 58/100\n",
      "12/12 [==============================] - 0s 8ms/step - loss: 0.0521 - accuracy: 0.9874 - val_loss: 1.2351 - val_accuracy: 0.4595\n",
      "Epoch 59/100\n",
      "12/12 [==============================] - 0s 8ms/step - loss: 0.0399 - accuracy: 0.9933 - val_loss: 1.2492 - val_accuracy: 0.4595\n",
      "Epoch 60/100\n",
      "12/12 [==============================] - 0s 8ms/step - loss: 0.0408 - accuracy: 0.9932 - val_loss: 1.2578 - val_accuracy: 0.4595\n",
      "Epoch 61/100\n",
      "12/12 [==============================] - 0s 9ms/step - loss: 0.0596 - accuracy: 0.9878 - val_loss: 1.2689 - val_accuracy: 0.4662\n",
      "Epoch 62/100\n",
      "12/12 [==============================] - 0s 10ms/step - loss: 0.0515 - accuracy: 0.9895 - val_loss: 1.2592 - val_accuracy: 0.4662\n",
      "Epoch 63/100\n",
      "12/12 [==============================] - 0s 8ms/step - loss: 0.0328 - accuracy: 0.9961 - val_loss: 1.2732 - val_accuracy: 0.4730\n",
      "Epoch 64/100\n",
      "12/12 [==============================] - 0s 8ms/step - loss: 0.0260 - accuracy: 0.9967 - val_loss: 1.2830 - val_accuracy: 0.4797\n",
      "Epoch 65/100\n",
      "12/12 [==============================] - 0s 8ms/step - loss: 0.0222 - accuracy: 0.9985 - val_loss: 1.2939 - val_accuracy: 0.4797\n",
      "Epoch 66/100\n",
      "12/12 [==============================] - 0s 7ms/step - loss: 0.0403 - accuracy: 0.9907 - val_loss: 1.3093 - val_accuracy: 0.4797\n",
      "Epoch 67/100\n",
      "12/12 [==============================] - 0s 8ms/step - loss: 0.0477 - accuracy: 0.9905 - val_loss: 1.3097 - val_accuracy: 0.4797\n",
      "Epoch 68/100\n",
      "12/12 [==============================] - 0s 8ms/step - loss: 0.0494 - accuracy: 0.9894 - val_loss: 1.3258 - val_accuracy: 0.4797\n",
      "Epoch 69/100\n",
      "12/12 [==============================] - 0s 8ms/step - loss: 0.0254 - accuracy: 0.9967 - val_loss: 1.3166 - val_accuracy: 0.4932\n",
      "Epoch 70/100\n",
      "12/12 [==============================] - 0s 8ms/step - loss: 0.0329 - accuracy: 0.9919 - val_loss: 1.3398 - val_accuracy: 0.4797\n",
      "Epoch 71/100\n",
      "12/12 [==============================] - 0s 8ms/step - loss: 0.0394 - accuracy: 0.9909 - val_loss: 1.3460 - val_accuracy: 0.4932\n",
      "Epoch 72/100\n",
      "12/12 [==============================] - 0s 8ms/step - loss: 0.0368 - accuracy: 0.9927 - val_loss: 1.3560 - val_accuracy: 0.4932\n",
      "Epoch 73/100\n",
      "12/12 [==============================] - 0s 8ms/step - loss: 0.0342 - accuracy: 0.9934 - val_loss: 1.3658 - val_accuracy: 0.4932\n",
      "Epoch 74/100\n",
      "12/12 [==============================] - 0s 9ms/step - loss: 0.0473 - accuracy: 0.9897 - val_loss: 1.3802 - val_accuracy: 0.4797\n",
      "Epoch 75/100\n",
      "12/12 [==============================] - 0s 8ms/step - loss: 0.0221 - accuracy: 0.9974 - val_loss: 1.3810 - val_accuracy: 0.4932\n",
      "Epoch 76/100\n",
      "12/12 [==============================] - 0s 8ms/step - loss: 0.0210 - accuracy: 0.9959 - val_loss: 1.3936 - val_accuracy: 0.4932\n",
      "Epoch 77/100\n",
      "12/12 [==============================] - 0s 8ms/step - loss: 0.0436 - accuracy: 0.9874 - val_loss: 1.4124 - val_accuracy: 0.4865\n",
      "Epoch 78/100\n",
      "12/12 [==============================] - 0s 8ms/step - loss: 0.0291 - accuracy: 0.9944 - val_loss: 1.4121 - val_accuracy: 0.4932\n",
      "Epoch 79/100\n",
      "12/12 [==============================] - 0s 8ms/step - loss: 0.0290 - accuracy: 0.9941 - val_loss: 1.4191 - val_accuracy: 0.5000\n",
      "Epoch 80/100\n",
      "12/12 [==============================] - 0s 9ms/step - loss: 0.0191 - accuracy: 0.9955 - val_loss: 1.4287 - val_accuracy: 0.5000\n",
      "Epoch 81/100\n",
      "12/12 [==============================] - 0s 9ms/step - loss: 0.0245 - accuracy: 0.9956 - val_loss: 1.4485 - val_accuracy: 0.4932\n",
      "Epoch 82/100\n",
      "12/12 [==============================] - 0s 7ms/step - loss: 0.0336 - accuracy: 0.9929 - val_loss: 1.4627 - val_accuracy: 0.4932\n",
      "Epoch 83/100\n",
      "12/12 [==============================] - 0s 8ms/step - loss: 0.0302 - accuracy: 0.9941 - val_loss: 1.4637 - val_accuracy: 0.5000\n",
      "Epoch 84/100\n",
      "12/12 [==============================] - 0s 7ms/step - loss: 0.0231 - accuracy: 0.9961 - val_loss: 1.4746 - val_accuracy: 0.5000\n",
      "Epoch 85/100\n",
      "12/12 [==============================] - 0s 8ms/step - loss: 0.0412 - accuracy: 0.9897 - val_loss: 1.4849 - val_accuracy: 0.5000\n",
      "Epoch 86/100\n",
      "12/12 [==============================] - 0s 12ms/step - loss: 0.0392 - accuracy: 0.9893 - val_loss: 1.4933 - val_accuracy: 0.5000\n",
      "Epoch 87/100\n",
      "12/12 [==============================] - 0s 15ms/step - loss: 0.0259 - accuracy: 0.9944 - val_loss: 1.5073 - val_accuracy: 0.5000\n",
      "Epoch 88/100\n",
      "12/12 [==============================] - 0s 17ms/step - loss: 0.0198 - accuracy: 0.9950 - val_loss: 1.5133 - val_accuracy: 0.5000\n",
      "Epoch 89/100\n",
      "12/12 [==============================] - 0s 13ms/step - loss: 0.0160 - accuracy: 0.9972 - val_loss: 1.5335 - val_accuracy: 0.5000\n",
      "Epoch 90/100\n",
      "12/12 [==============================] - 0s 8ms/step - loss: 0.0233 - accuracy: 0.9940 - val_loss: 1.5397 - val_accuracy: 0.4932\n",
      "Epoch 91/100\n",
      "12/12 [==============================] - 0s 11ms/step - loss: 0.0238 - accuracy: 0.9934 - val_loss: 1.5417 - val_accuracy: 0.4932\n",
      "Epoch 92/100\n",
      "12/12 [==============================] - 0s 14ms/step - loss: 0.0146 - accuracy: 0.9970 - val_loss: 1.5556 - val_accuracy: 0.4932\n",
      "Epoch 93/100\n",
      "12/12 [==============================] - 0s 13ms/step - loss: 0.0173 - accuracy: 0.9955 - val_loss: 1.5604 - val_accuracy: 0.4932\n",
      "Epoch 94/100\n",
      "12/12 [==============================] - 0s 10ms/step - loss: 0.0181 - accuracy: 0.9967 - val_loss: 1.5666 - val_accuracy: 0.4932\n",
      "Epoch 95/100\n",
      "12/12 [==============================] - 0s 8ms/step - loss: 0.0239 - accuracy: 0.9939 - val_loss: 1.5715 - val_accuracy: 0.4932\n",
      "Epoch 96/100\n",
      "12/12 [==============================] - 0s 7ms/step - loss: 0.0210 - accuracy: 0.9902 - val_loss: 1.5847 - val_accuracy: 0.4932\n",
      "Epoch 97/100\n",
      "12/12 [==============================] - 0s 8ms/step - loss: 0.0285 - accuracy: 0.9937 - val_loss: 1.5905 - val_accuracy: 0.4932\n",
      "Epoch 98/100\n",
      "12/12 [==============================] - 0s 7ms/step - loss: 0.0482 - accuracy: 0.9871 - val_loss: 1.6050 - val_accuracy: 0.4932\n",
      "Epoch 99/100\n",
      "12/12 [==============================] - 0s 7ms/step - loss: 0.0150 - accuracy: 0.9981 - val_loss: 1.6097 - val_accuracy: 0.4932\n",
      "Epoch 100/100\n",
      "12/12 [==============================] - 0s 8ms/step - loss: 0.0303 - accuracy: 0.9927 - val_loss: 1.6257 - val_accuracy: 0.4932\n"
     ]
    },
    {
     "output_type": "execute_result",
     "data": {
      "text/plain": [
       "<tensorflow.python.keras.callbacks.History at 0x1f003bb96c8>"
      ]
     },
     "metadata": {},
     "execution_count": 60
    }
   ],
   "source": [
    "network.compile(optimizer='adam',loss='binary_crossentropy',metrics=['accuracy'])\n",
    "network.fit(train, train_labels, epochs=100,validation_data=(val_data, val_labels))"
   ]
  },
  {
   "cell_type": "code",
   "execution_count": 62,
   "metadata": {},
   "outputs": [
    {
     "output_type": "stream",
     "name": "stdout",
     "text": [
      "7/7 [==============================] - 0s 2ms/step - loss: 1.7776 - accuracy: 0.4525\n"
     ]
    }
   ],
   "source": [
    "results = network.evaluate(test, test_labels)"
   ]
  },
  {
   "cell_type": "code",
   "execution_count": null,
   "metadata": {},
   "outputs": [],
   "source": []
  },
  {
   "cell_type": "code",
   "execution_count": null,
   "metadata": {},
   "outputs": [],
   "source": []
  },
  {
   "cell_type": "code",
   "execution_count": null,
   "metadata": {},
   "outputs": [],
   "source": []
  },
  {
   "cell_type": "code",
   "execution_count": null,
   "metadata": {},
   "outputs": [],
   "source": []
  }
 ],
 "metadata": {
  "kernelspec": {
   "display_name": "Python 3",
   "language": "python",
   "name": "python3"
  },
  "language_info": {
   "codemirror_mode": {
    "name": "ipython",
    "version": 3
   },
   "file_extension": ".py",
   "mimetype": "text/x-python",
   "name": "python",
   "nbconvert_exporter": "python",
   "pygments_lexer": "ipython3",
   "version": "3.7.8"
  }
 },
 "nbformat": 4,
 "nbformat_minor": 2
}